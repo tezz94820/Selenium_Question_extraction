{
 "cells": [
  {
   "cell_type": "code",
   "execution_count": 4,
   "metadata": {},
   "outputs": [],
   "source": [
    "import docx\n",
    "\n",
    "doc = docx.Document()\n",
    "\n",
    "# Add some text with subscript and superscript\n",
    "paragraph = doc.add_paragraph()\n",
    "run = paragraph.add_run('A')\n",
    "# run.font.subscript = True\n",
    "run = paragraph.add_run('1')\n",
    "run.font.subscript = True\n",
    "run = paragraph.add_run(' is the ')\n",
    "# Save the document\n",
    "doc.save('example.docx')"
   ]
  },
  {
   "cell_type": "code",
   "execution_count": null,
   "metadata": {},
   "outputs": [],
   "source": []
  }
 ],
 "metadata": {
  "kernelspec": {
   "display_name": "Python 3",
   "language": "python",
   "name": "python3"
  },
  "language_info": {
   "codemirror_mode": {
    "name": "ipython",
    "version": 3
   },
   "file_extension": ".py",
   "mimetype": "text/x-python",
   "name": "python",
   "nbconvert_exporter": "python",
   "pygments_lexer": "ipython3",
   "version": "3.10.5"
  },
  "orig_nbformat": 4
 },
 "nbformat": 4,
 "nbformat_minor": 2
}
