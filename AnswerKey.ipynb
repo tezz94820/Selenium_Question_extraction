{
 "cells": [
  {
   "cell_type": "code",
   "execution_count": 25,
   "metadata": {},
   "outputs": [],
   "source": [
    "from selenium import webdriver\n",
    "from selenium.webdriver.common.by import By\n",
    "from selenium.webdriver.support.ui import WebDriverWait\n",
    "from selenium.webdriver.support import expected_conditions as EC\n",
    "import undetected_chromedriver as uc\n",
    "from selenium.webdriver.chrome.options import Options\n",
    "import time\n",
    "from docx import Document"
   ]
  },
  {
   "cell_type": "code",
   "execution_count": 26,
   "metadata": {},
   "outputs": [
    {
     "name": "stdout",
     "output_type": "stream",
     "text": [
      "len = 219\n",
      "index = 0\n",
      "Q1 D)\n",
      "___________________\n",
      "index = 1\n",
      "Q2 Correct answer is 25\n",
      "___________________\n",
      "index = 2\n",
      "Q3 B)\n",
      "___________________\n",
      "index = 3\n",
      "Q4 B)\n",
      "___________________\n",
      "index = 4\n",
      "Q5 D)\n",
      "___________________\n",
      "index = 5\n"
     ]
    },
    {
     "ename": "WebDriverException",
     "evalue": "Message: unknown error: unhandled inspector error: {\"code\":-32000,\"message\":\"No node with given id found\"}\n  (Session info: chrome=114.0.5735.134)\nStacktrace:\nBacktrace:\n\tGetHandleVerifier [0x00B3A813+48355]\n\t(No symbol) [0x00ACC4B1]\n\t(No symbol) [0x009D5358]\n\t(No symbol) [0x009C89EB]\n\t(No symbol) [0x009C7138]\n\t(No symbol) [0x009C77AA]\n\t(No symbol) [0x009C7748]\n\t(No symbol) [0x009DE66A]\n\t(No symbol) [0x009D8A78]\n\t(No symbol) [0x009D7C03]\n\t(No symbol) [0x009D99E1]\n\t(No symbol) [0x009D9A80]\n\t(No symbol) [0x00A01D29]\n\t(No symbol) [0x009F9DAD]\n\t(No symbol) [0x00A1A73C]\n\t(No symbol) [0x009F9A36]\n\t(No symbol) [0x00A1AA94]\n\t(No symbol) [0x00A2C922]\n\t(No symbol) [0x00A1A536]\n\t(No symbol) [0x009F82DC]\n\t(No symbol) [0x009F93DD]\n\tGetHandleVerifier [0x00D9AABD+2539405]\n\tGetHandleVerifier [0x00DDA78F+2800735]\n\tGetHandleVerifier [0x00DD456C+2775612]\n\tGetHandleVerifier [0x00BC51E0+616112]\n\t(No symbol) [0x00AD5F8C]\n\t(No symbol) [0x00AD2328]\n\t(No symbol) [0x00AD240B]\n\t(No symbol) [0x00AC4FF7]\n\tBaseThreadInitThunk [0x76CD7D59+25]\n\tRtlInitializeExceptionChain [0x77EAB74B+107]\n\tRtlClearBits [0x77EAB6CF+191]\n",
     "output_type": "error",
     "traceback": [
      "\u001b[1;31m---------------------------------------------------------------------------\u001b[0m",
      "\u001b[1;31mWebDriverException\u001b[0m                        Traceback (most recent call last)",
      "\u001b[1;32mc:\\Users\\tejas\\OneDrive\\Desktop\\sirsir\\AnswerKey.ipynb Cell 2\u001b[0m in \u001b[0;36m<cell line: 25>\u001b[1;34m()\u001b[0m\n\u001b[0;32m     <a href='vscode-notebook-cell:/c%3A/Users/tejas/OneDrive/Desktop/sirsir/AnswerKey.ipynb#W1sZmlsZQ%3D%3D?line=32'>33</a>\u001b[0m     particular_question\u001b[39m.\u001b[39mclick()\n\u001b[0;32m     <a href='vscode-notebook-cell:/c%3A/Users/tejas/OneDrive/Desktop/sirsir/AnswerKey.ipynb#W1sZmlsZQ%3D%3D?line=33'>34</a>\u001b[0m     time\u001b[39m.\u001b[39msleep(\u001b[39m5\u001b[39m)\n\u001b[1;32m---> <a href='vscode-notebook-cell:/c%3A/Users/tejas/OneDrive/Desktop/sirsir/AnswerKey.ipynb#W1sZmlsZQ%3D%3D?line=34'>35</a>\u001b[0m question\u001b[39m.\u001b[39;49mclick()\n\u001b[0;32m     <a href='vscode-notebook-cell:/c%3A/Users/tejas/OneDrive/Desktop/sirsir/AnswerKey.ipynb#W1sZmlsZQ%3D%3D?line=35'>36</a>\u001b[0m counter \u001b[39m=\u001b[39m counter \u001b[39m+\u001b[39m \u001b[39m1\u001b[39m\n\u001b[0;32m     <a href='vscode-notebook-cell:/c%3A/Users/tejas/OneDrive/Desktop/sirsir/AnswerKey.ipynb#W1sZmlsZQ%3D%3D?line=36'>37</a>\u001b[0m time\u001b[39m.\u001b[39msleep(\u001b[39m5\u001b[39m)\n",
      "File \u001b[1;32mc:\\Python310\\lib\\site-packages\\selenium\\webdriver\\remote\\webelement.py:93\u001b[0m, in \u001b[0;36mWebElement.click\u001b[1;34m(self)\u001b[0m\n\u001b[0;32m     91\u001b[0m \u001b[39mdef\u001b[39;00m \u001b[39mclick\u001b[39m(\u001b[39mself\u001b[39m) \u001b[39m-\u001b[39m\u001b[39m>\u001b[39m \u001b[39mNone\u001b[39;00m:\n\u001b[0;32m     92\u001b[0m \u001b[39m    \u001b[39m\u001b[39m\"\"\"Clicks the element.\"\"\"\u001b[39;00m\n\u001b[1;32m---> 93\u001b[0m     \u001b[39mself\u001b[39;49m\u001b[39m.\u001b[39;49m_execute(Command\u001b[39m.\u001b[39;49mCLICK_ELEMENT)\n",
      "File \u001b[1;32mc:\\Python310\\lib\\site-packages\\selenium\\webdriver\\remote\\webelement.py:403\u001b[0m, in \u001b[0;36mWebElement._execute\u001b[1;34m(self, command, params)\u001b[0m\n\u001b[0;32m    401\u001b[0m     params \u001b[39m=\u001b[39m {}\n\u001b[0;32m    402\u001b[0m params[\u001b[39m\"\u001b[39m\u001b[39mid\u001b[39m\u001b[39m\"\u001b[39m] \u001b[39m=\u001b[39m \u001b[39mself\u001b[39m\u001b[39m.\u001b[39m_id\n\u001b[1;32m--> 403\u001b[0m \u001b[39mreturn\u001b[39;00m \u001b[39mself\u001b[39;49m\u001b[39m.\u001b[39;49m_parent\u001b[39m.\u001b[39;49mexecute(command, params)\n",
      "File \u001b[1;32mc:\\Python310\\lib\\site-packages\\selenium\\webdriver\\remote\\webdriver.py:440\u001b[0m, in \u001b[0;36mWebDriver.execute\u001b[1;34m(self, driver_command, params)\u001b[0m\n\u001b[0;32m    438\u001b[0m response \u001b[39m=\u001b[39m \u001b[39mself\u001b[39m\u001b[39m.\u001b[39mcommand_executor\u001b[39m.\u001b[39mexecute(driver_command, params)\n\u001b[0;32m    439\u001b[0m \u001b[39mif\u001b[39;00m response:\n\u001b[1;32m--> 440\u001b[0m     \u001b[39mself\u001b[39;49m\u001b[39m.\u001b[39;49merror_handler\u001b[39m.\u001b[39;49mcheck_response(response)\n\u001b[0;32m    441\u001b[0m     response[\u001b[39m\"\u001b[39m\u001b[39mvalue\u001b[39m\u001b[39m\"\u001b[39m] \u001b[39m=\u001b[39m \u001b[39mself\u001b[39m\u001b[39m.\u001b[39m_unwrap_value(response\u001b[39m.\u001b[39mget(\u001b[39m\"\u001b[39m\u001b[39mvalue\u001b[39m\u001b[39m\"\u001b[39m, \u001b[39mNone\u001b[39;00m))\n\u001b[0;32m    442\u001b[0m     \u001b[39mreturn\u001b[39;00m response\n",
      "File \u001b[1;32mc:\\Python310\\lib\\site-packages\\selenium\\webdriver\\remote\\errorhandler.py:245\u001b[0m, in \u001b[0;36mErrorHandler.check_response\u001b[1;34m(self, response)\u001b[0m\n\u001b[0;32m    243\u001b[0m         alert_text \u001b[39m=\u001b[39m value[\u001b[39m\"\u001b[39m\u001b[39malert\u001b[39m\u001b[39m\"\u001b[39m]\u001b[39m.\u001b[39mget(\u001b[39m\"\u001b[39m\u001b[39mtext\u001b[39m\u001b[39m\"\u001b[39m)\n\u001b[0;32m    244\u001b[0m     \u001b[39mraise\u001b[39;00m exception_class(message, screen, stacktrace, alert_text)  \u001b[39m# type: ignore[call-arg]  # mypy is not smart enough here\u001b[39;00m\n\u001b[1;32m--> 245\u001b[0m \u001b[39mraise\u001b[39;00m exception_class(message, screen, stacktrace)\n",
      "\u001b[1;31mWebDriverException\u001b[0m: Message: unknown error: unhandled inspector error: {\"code\":-32000,\"message\":\"No node with given id found\"}\n  (Session info: chrome=114.0.5735.134)\nStacktrace:\nBacktrace:\n\tGetHandleVerifier [0x00B3A813+48355]\n\t(No symbol) [0x00ACC4B1]\n\t(No symbol) [0x009D5358]\n\t(No symbol) [0x009C89EB]\n\t(No symbol) [0x009C7138]\n\t(No symbol) [0x009C77AA]\n\t(No symbol) [0x009C7748]\n\t(No symbol) [0x009DE66A]\n\t(No symbol) [0x009D8A78]\n\t(No symbol) [0x009D7C03]\n\t(No symbol) [0x009D99E1]\n\t(No symbol) [0x009D9A80]\n\t(No symbol) [0x00A01D29]\n\t(No symbol) [0x009F9DAD]\n\t(No symbol) [0x00A1A73C]\n\t(No symbol) [0x009F9A36]\n\t(No symbol) [0x00A1AA94]\n\t(No symbol) [0x00A2C922]\n\t(No symbol) [0x00A1A536]\n\t(No symbol) [0x009F82DC]\n\t(No symbol) [0x009F93DD]\n\tGetHandleVerifier [0x00D9AABD+2539405]\n\tGetHandleVerifier [0x00DDA78F+2800735]\n\tGetHandleVerifier [0x00DD456C+2775612]\n\tGetHandleVerifier [0x00BC51E0+616112]\n\t(No symbol) [0x00AD5F8C]\n\t(No symbol) [0x00AD2328]\n\t(No symbol) [0x00AD240B]\n\t(No symbol) [0x00AC4FF7]\n\tBaseThreadInitThunk [0x76CD7D59+25]\n\tRtlInitializeExceptionChain [0x77EAB74B+107]\n\tRtlClearBits [0x77EAB6CF+191]\n"
     ]
    }
   ],
   "source": [
    "#new doc\n",
    "doc = Document()\n",
    "doc.save('keys.docx')\n",
    "doc = Document('test.docx')\n",
    "\n",
    "options = Options()\n",
    "options.add_argument('--profile-directory=Profile 1')\n",
    "options.add_argument('--user-data-dir=C:\\\\Users\\\\tejas\\\\AppData\\\\Local\\\\Google\\\\Chrome\\\\User Data\\\\')\n",
    "\n",
    "driver = uc.Chrome(executable_path='C:\\Program Files\\Google\\Chrome\\Application\\chrome.exe',options=options)\n",
    "driver.get(\"https://room.examgoal.com/pyq/tests/analysis/ec5c7640-07bd-11ee-a7e8-4965c61e7495\")\n",
    "time.sleep(5)\n",
    "\n",
    "last_question = driver.find_element(By.XPATH, '/html/body/div[1]/div/div/main/div/div[4]/div/div[2]/div[219]')\n",
    "last_question.click()\n",
    "time.sleep(5)\n",
    "\n",
    "question_box = driver.find_element(By.XPATH, '/html/body/div[1]/div/div/main/div/nav/div/div/header/div[2]/div/div[2]/div')\n",
    "question_box = question_box.find_elements(By.TAG_NAME, 'button')\n",
    "close_button = driver.find_element(By.XPATH, '/html/body/div[1]/div/div/main/div/nav/div/div/header/div[1]/button[1]/span[3]')\n",
    "\n",
    "counter = 0\n",
    "question_box = question_box[::-1]\n",
    "print(f'len = {len(question_box)}')\n",
    "for (index,question) in enumerate(question_box[:20]):\n",
    "    print(f'index = {index}')\n",
    "    # clicking cross button\n",
    "    if(counter == 5):\n",
    "        close_button.click()\n",
    "        counter = 0\n",
    "        time.sleep(1)\n",
    "        particular_question = driver.find_element(By.XPATH, f'/html/body/div[1]/div/div/main/div/div[4]/div/div[2]/div[{len(question_box)-index}]')\n",
    "        particular_question.click()\n",
    "        time.sleep(5)\n",
    "    question.click()\n",
    "    counter = counter + 1\n",
    "    time.sleep(5)\n",
    "\n",
    "    #question type\n",
    "    question_type = driver.find_element(By.XPATH, '/html/body/div[1]/div/div/main/div/nav/div/div/div[1]/div/div[1]/div[1]/div[2]/div[2]/div[2]/div[2]')\n",
    "    \n",
    "    if(question_type.text == \"MCQ Single Answer\"):\n",
    "        option1 = driver.find_element(By.XPATH, '/html/body/div[1]/div/div/main/div/nav/div/div/div[1]/div/div[2]/div[1]')\n",
    "        option2 = driver.find_element(By.XPATH, '/html/body/div[1]/div/div/main/div/nav/div/div/div[1]/div/div[2]/div[2]')\n",
    "        option3 = driver.find_element(By.XPATH, '/html/body/div[1]/div/div/main/div/nav/div/div/div[1]/div/div[2]/div[3]')\n",
    "        option4 = driver.find_element(By.XPATH, '/html/body/div[1]/div/div/main/div/nav/div/div/div[1]/div/div[2]/div[4]')\n",
    "\n",
    "        if(\"Correct answer\" in option1.text):  \n",
    "            correct_option = option1\n",
    "        elif(\"Correct answer\" in option2.text):\n",
    "            correct_option = option2\n",
    "        elif(\"Correct answer\" in option3.text):\n",
    "            correct_option = option3\n",
    "        elif(\"Correct answer\" in option4.text):\n",
    "            correct_option = option4\n",
    "\n",
    "        print(f'Q{index+1} {correct_option.text[0]})')\n",
    "        doc.add_paragraph(f'Q{index+1}) {correct_option.text}')\n",
    "        print(\"___________________\")\n",
    "\n",
    "    else:\n",
    "        answer = driver.find_element(By.XPATH, '/html/body/div[1]/div/div/main/div/nav/div/div/div[1]/div/div[3]/div[2]')\n",
    "        print(f'Q{index+1} {answer.text}')\n",
    "        doc.add_paragraph(f'Q{index+1}) {answer.text}')\n",
    "        print(\"___________________\")\n",
    "\n",
    "\n",
    "\n",
    "doc.save('test.docx')\n",
    "        \n"
   ]
  }
 ],
 "metadata": {
  "kernelspec": {
   "display_name": "Python 3",
   "language": "python",
   "name": "python3"
  },
  "language_info": {
   "codemirror_mode": {
    "name": "ipython",
    "version": 3
   },
   "file_extension": ".py",
   "mimetype": "text/x-python",
   "name": "python",
   "nbconvert_exporter": "python",
   "pygments_lexer": "ipython3",
   "version": "3.10.5"
  },
  "orig_nbformat": 4
 },
 "nbformat": 4,
 "nbformat_minor": 2
}
